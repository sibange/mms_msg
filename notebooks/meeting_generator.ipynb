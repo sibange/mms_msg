{
 "cells": [
  {
   "cell_type": "markdown",
   "id": "86c74a08-2217-4626-adb8-cbfc3aa84882",
   "metadata": {},
   "source": [
    "## Example: Use Meeting Generator to generate artificial meeting datasets"
   ]
  },
  {
   "cell_type": "code",
   "execution_count": null,
   "id": "57eb5978-da0f-48b8-afe2-539133c6e368",
   "metadata": {},
   "outputs": [],
   "source": [
    "#Uncomment the following two lines to enable the logging messages of the meeting generation for a more detailed insight in the generation process\n",
    "#import logging\n",
    "#logging.basicConfig(level=logging.INFO)"
   ]
  },
  {
   "cell_type": "code",
   "execution_count": null,
   "id": "0ab83ba7-557d-4903-b7a9-259b40b0f16e",
   "metadata": {},
   "outputs": [],
   "source": [
    "import mms_msg\n",
    "import lazy_dataset"
   ]
  },
  {
   "cell_type": "code",
   "execution_count": null,
   "id": "b9d6e72b-c05d-4efd-b925-78d02725f8b8",
   "metadata": {},
   "outputs": [],
   "source": [
    "#Prepare source dataset from which certain statistics are sampled\n",
    "from mms_msg.databases.single_speaker.librispeech.database import LibriSpeech8kHz\n",
    "libri_db = LibriSpeech8kHz()\n",
    "libri_ds = libri_db.get_dataset('test_clean')\n",
    "\n",
    "source_ds = mms_msg.sampling.source_composition.get_composition_dataset(libri_ds, num_speakers=3)\n",
    "source_ds = source_ds.map(mms_msg.sampling.pattern.meeting.MeetingSampler(duration=960000, # in samples\n",
    "                                                            overlap_sampler=mms_msg.sampling.pattern.meeting.overlap_sampler.UniformOverlapSampler(max_concurrent_spk=2, p_silence=0.1, maximum_silence=16000, maximum_overlap=64000)\n",
    "                                                           )(libri_ds))\n",
    "print('Number of Meetings:', len(source_ds))"
   ]
  },
  {
   "cell_type": "code",
   "execution_count": null,
   "id": "f062bb48-d131-495f-8e67-68f97b219066",
   "metadata": {},
   "outputs": [],
   "source": [
    "import paderbox as pb\n",
    "with pb.visualization.figure_context():\n",
    "    mms_msg.visualization.plot.plot_mixture(source_ds[0])"
   ]
  },
  {
   "cell_type": "code",
   "execution_count": null,
   "id": "2d6751ad-d6f4-43ba-ba35-a594541393a1",
   "metadata": {},
   "outputs": [],
   "source": [
    "#Estimate statistics of source dataset\n",
    "from mms_msg.sampling.pattern.meeting.state_based.dataset_statistics_estimation import MeetingStatisticsEstimatorMarkov\n",
    "ds_estimator = MeetingStatisticsEstimatorMarkov(source_ds)\n",
    "\n",
    "model = ds_estimator.model\n",
    "silence_dist = ds_estimator.silence_distribution\n",
    "overlap_dist = ds_estimator.overlap_distribution"
   ]
  },
  {
   "cell_type": "code",
   "execution_count": null,
   "id": "2be09700-3895-471e-825f-a509ed66bad6",
   "metadata": {},
   "outputs": [],
   "source": [
    "#Generate new Meeting using the normal mms_msg sampling pipeline\n",
    "from mms_msg.sampling.pattern.meeting.state_based.meeting_generator import MeetingGeneratorMap\n",
    "input_ds = libri_db.get_dataset('test_clean')\n",
    "\n",
    "# Fitting of the generator\n",
    "generator_map = MeetingGeneratorMap(source_dataset=source_ds, input_dataset=input_ds)"
   ]
  },
  {
   "cell_type": "code",
   "execution_count": null,
   "id": "d497ac88-dc09-4e79-9769-23a37da5d37c",
   "metadata": {},
   "outputs": [],
   "source": [
    "# The generator must be mapped to a composition dataset with the same number of speakers as the source dataset\n",
    "ds = mms_msg.sampling.source_composition.get_composition_dataset(input_ds, num_speakers=3)[0:1000]\n",
    "output_ds1 = ds.map(generator_map)"
   ]
  },
  {
   "cell_type": "code",
   "execution_count": null,
   "id": "f1d5b00f-75fb-40f8-ae23-b62604fc7d5c",
   "metadata": {
    "scrolled": true,
    "tags": []
   },
   "outputs": [],
   "source": [
    "#Estimate statistics of generated dataset\n",
    "ds_estimator2 = MeetingStatisticsEstimatorMarkov(output_ds1)\n",
    "\n",
    "model2 = ds_estimator2.model\n",
    "silence_dist2 = ds_estimator2.silence_distribution\n",
    "overlap_dist2 = ds_estimator2.overlap_distribution"
   ]
  },
  {
   "cell_type": "code",
   "execution_count": null,
   "id": "3d206a17-bbc5-4653-bff1-b4cfb7006371",
   "metadata": {},
   "outputs": [],
   "source": [
    "#Compare statistics of the source dataset and the generated dataset\n",
    "import matplotlib.pyplot as plt\n",
    "from mms_msg.sampling.utils.distribution_model import statistical_distance\n",
    "print(model)\n",
    "print(model2)\n",
    "\n",
    "print('Statistical distance silence:', statistical_distance(silence_dist, silence_dist2))\n",
    "print('Statistical distance overlap:', statistical_distance(overlap_dist, overlap_dist2))\n",
    "\n",
    "fig, ax = plt.subplots(1,2,figsize=(11, 4))\n",
    "fig.subplots_adjust(wspace = 0.25)\n",
    "silence_dist.plot(ax=ax[0])\n",
    "silence_dist2.plot(ax=ax[0])\n",
    "ax[0].set_title('silence')\n",
    "overlap_dist.plot(ax=ax[1])\n",
    "overlap_dist2.plot(ax=ax[1])\n",
    "ax[1].set_title('overlap')\n",
    "plt.show()"
   ]
  },
  {
   "cell_type": "code",
   "execution_count": null,
   "id": "2119e8a9-06be-4f43-8a73-74f036af7632",
   "metadata": {},
   "outputs": [],
   "source": [
    "#Alternative way to use the meeting generator\n",
    "from mms_msg.sampling.pattern.meeting.state_based.meeting_generator import MeetingGenerator\n",
    "generator = MeetingGenerator()\n",
    "generator.fit(source_ds)"
   ]
  },
  {
   "cell_type": "code",
   "execution_count": null,
   "id": "1cd2eb6a-102d-4131-89f1-d3852bd29c05",
   "metadata": {},
   "outputs": [],
   "source": [
    "# Here the number of speakers can differ from the source dataset (When the underlying transition model supports a variable number of speakers)\n",
    "output_ds2 = generator.generate(input_dataset = input_ds, num_speakers = 3, num_meetings = 5000)"
   ]
  },
  {
   "cell_type": "markdown",
   "id": "620e59a8-578c-4b37-bbb3-28f6bd7e00b2",
   "metadata": {},
   "source": [
    "## Adapting the meeting generator to show a custom behavior during meeting generation"
   ]
  },
  {
   "cell_type": "markdown",
   "id": "be5f8e5d-a56d-47b8-993e-d0936c52a7c4",
   "metadata": {},
   "source": [
    "It is also possible to adapt the behavior of the meeting generator, this can be done by changing out the two main componenents of it:\n",
    "* transition_model: Responsible for generating the seqeuence of speakers and the transition types (actions) between them.\n",
    "* action_handler: Responsible for sampling a source that fits to the action and id of the next speaker, that were generated by the transition_model.\n",
    "\n",
    "The custom classes must inherit from the following classes and implement the respective methods:\n",
    "* Transition model: mms_msg.sampling.pattern.meeting.state_based.transition_model.SpeakerTransitionModel\n",
    "* Action handler: mms_msg.sampling.pattern.meeting.state_based.action_handler.ActionHandler"
   ]
  },
  {
   "cell_type": "code",
   "execution_count": null,
   "id": "6d78b0dd-f2f5-459f-b4d9-642284b6ede9",
   "metadata": {},
   "outputs": [],
   "source": [
    "from mms_msg.sampling.pattern.meeting.state_based.transition_model import SpeakerTransitionModel\n",
    "from mms_msg.sampling.pattern.meeting.state_based.action_handler import ActionHandler\n",
    "\n",
    "class CustomTransitionModel(SpeakerTransitionModel):\n",
    "    def __init__(self):\n",
    "        pass\n",
    "    # Implementation of class methods:\n",
    "    # ...\n",
    "    # --------------------------------\n",
    "    \n",
    "    \n",
    "class CustomActionHandler(ActionHandler):\n",
    "    def __init__(self):\n",
    "        pass\n",
    "    # Implementation of class methods:\n",
    "    # ...\n",
    "    # --------------------------------"
   ]
  },
  {
   "cell_type": "code",
   "execution_count": null,
   "id": "436994cb-2fce-4847-9abd-2ecc929cf6a0",
   "metadata": {},
   "outputs": [],
   "source": [
    "#from mms_msg.sampling.pattern.meeting.state_based.weighted_meeting_sampler import WeightedMeetingSampler\n",
    "#meeting_sampler = WeightedMeetingSampler(transition_model=CustomTransitionModel(), action_handler=CustomActionHandler())(input_dataset)"
   ]
  }
 ],
 "metadata": {
  "kernelspec": {
   "display_name": "Python 3 NT",
   "language": "python",
   "name": "myenv"
  },
  "language_info": {
   "codemirror_mode": {
    "name": "ipython",
    "version": 3
   },
   "file_extension": ".py",
   "mimetype": "text/x-python",
   "name": "python",
   "nbconvert_exporter": "python",
   "pygments_lexer": "ipython3",
   "version": "3.9.7"
  }
 },
 "nbformat": 4,
 "nbformat_minor": 5
}
